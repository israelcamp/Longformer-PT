{
 "cells": [
  {
   "attachments": {},
   "cell_type": "markdown",
   "metadata": {},
   "source": [
    "## Prepare data "
   ]
  },
  {
   "attachments": {},
   "cell_type": "markdown",
   "metadata": {},
   "source": [
    "### Load dataset"
   ]
  },
  {
   "cell_type": "code",
   "execution_count": null,
   "metadata": {},
   "outputs": [],
   "source": [
    "from datasets import load_dataset, load_from_disk\n",
    "\n",
    "dataset_carolina = load_dataset(\"carolina-c4ai/corpus-carolina\")\n",
    "dataset_brwac = load_from_disk(\"../data/brwac_dataset\")"
   ]
  },
  {
   "attachments": {},
   "cell_type": "markdown",
   "metadata": {},
   "source": [
    "# Generate Dataset"
   ]
  },
  {
   "cell_type": "code",
   "execution_count": null,
   "metadata": {},
   "outputs": [],
   "source": [
    "# Create small sample\n",
    "# sample = dataset['corpus'] #.train_test_split(test_size=100)['test']\n",
    "# sample.save_to_disk('../data/carolina_sample_100')"
   ]
  },
  {
   "cell_type": "code",
   "execution_count": null,
   "metadata": {},
   "outputs": [],
   "source": [
    "from tqdm.auto import tqdm\n",
    "\n",
    "tqdm.pandas()"
   ]
  },
  {
   "cell_type": "code",
   "execution_count": null,
   "metadata": {},
   "outputs": [],
   "source": [
    "for text in tqdm(dataset_carolina['corpus']['text']):\n",
    "    with open('../data/corpus-carolina/carolina.txt', 'a', encoding=\"utf-8\") as f:\n",
    "        f.write(text + '\\n')"
   ]
  },
  {
   "cell_type": "code",
   "execution_count": null,
   "metadata": {},
   "outputs": [],
   "source": [
    "for example in tqdm(dataset_brwac['train']):\n",
    "    with open('../data/brwac_dataset/brwac.txt', 'a', encoding=\"utf-8\") as f:\n",
    "        f.write(\"\\n\".join(sum(example['text']['paragraphs'], [])))"
   ]
  },
  {
   "cell_type": "code",
   "execution_count": null,
   "metadata": {},
   "outputs": [],
   "source": [
    "for text in tqdm(dataset_carolina['corpus']['text']):\n",
    "    with open('../data/carolina_brwac/carolina_brwac.txt', 'a', encoding=\"utf-8\") as f:\n",
    "        f.write(text + '\\n')\n",
    "\n",
    "for example in tqdm(dataset_brwac['train']):\n",
    "    with open('../data/carolina_brwac/carolina_brwac.txt', 'a', encoding=\"utf-8\") as f:\n",
    "        f.write(\"\\n\".join(sum(example['text']['paragraphs'], [])))"
   ]
  },
  {
   "attachments": {},
   "cell_type": "markdown",
   "metadata": {},
   "source": [
    "### Training Tokenizer"
   ]
  },
  {
   "cell_type": "code",
   "execution_count": null,
   "metadata": {},
   "outputs": [],
   "source": [
    "import sentencepiece as spm\n",
    "import os\n",
    "\n",
    "tokenizer_path = '../models/tokenizer/deberta-pt-carolina/'\n",
    "#os.makedirs(tokenizer_path, exist_ok=True)\n",
    "tokenizer_name = 'm'\n",
    "\n",
    "#os.makedirs(tokenizer_path, exist_ok=True)\n",
    "\n",
    "#spm.SentencePieceTrainer.train(input='../data/corpus-carolina/carolina.txt', model_prefix=f'{tokenizer_path}/{tokenizer_name}', vocab_size=50265)"
   ]
  },
  {
   "cell_type": "code",
   "execution_count": 4,
   "metadata": {},
   "outputs": [],
   "source": [
    "import sys\n",
    "sys.path.append('../DeBERTa')\n",
    "\n",
    "from DeBERTa import deberta\n",
    "from DeBERTa.deberta.spm_tokenizer import SPMTokenizer"
   ]
  },
  {
   "cell_type": "code",
   "execution_count": 5,
   "metadata": {},
   "outputs": [],
   "source": [
    "tokenizer_path = '../models/tokenizer/deberta-pt-carolina/'\n",
    "# p,t=deberta.load_vocab(vocab_path=tokenizer_path, vocab_type='spm', pretrained_id='deberta-v3-base')\n",
    "# tokenizer=deberta.tokenizers[t](p)\n",
    "tokenizer = SPMTokenizer(f'{tokenizer_path}m.model')"
   ]
  },
  {
   "attachments": {},
   "cell_type": "markdown",
   "metadata": {},
   "source": [
    "### Generate training data"
   ]
  },
  {
   "cell_type": "markdown",
   "metadata": {},
   "source": [
    "### STREAM OPTION"
   ]
  },
  {
   "cell_type": "code",
   "execution_count": 6,
   "metadata": {},
   "outputs": [],
   "source": [
    "# Caminhos dos arquivos de entrada e saída\n",
    "_input = '../data/carolina_brwac/carolina_brwac.txt'\n",
    "_output = '../data/carolina_brwac/carolina_brwac_tokenized_STREAM.txt'\n"
   ]
  },
  {
   "cell_type": "code",
   "execution_count": 2,
   "metadata": {},
   "outputs": [
    {
     "name": "stdout",
     "output_type": "stream",
     "text": [
      "143946923\n",
      "CPU times: total: 1min 34s\n",
      "Wall time: 1min 34s\n"
     ]
    }
   ],
   "source": [
    "%%time\n",
    "_input_file = '../data/carolina_brwac/carolina_brwac.txt'\n",
    "_output_path = '../data/carolina_brwac/full_data_v2/lines_tokenized/'\n",
    "_train_test_path = '../data/carolina_brwac/full_data_v2/train_test/'\n",
    "\n",
    "def get_total_lines(input_file):\n",
    "    with open(input_file, 'r', encoding='utf-8') as rfs:\n",
    "        total_lines = sum(1 for _ in rfs)\n",
    "    return total_lines\n",
    "\n",
    "total_lines = get_total_lines(_input_file)\n",
    "print(total_lines)"
   ]
  },
  {
   "cell_type": "code",
   "execution_count": 20,
   "metadata": {},
   "outputs": [
    {
     "name": "stdout",
     "output_type": "stream",
     "text": [
      "------\n",
      "Run Config:\n",
      "\n",
      "Input File:  ../data/carolina_brwac/carolina_brwac.txt\n",
      "Output Path:  ../data/carolina_brwac/full_data_v2/lines_tokenized/\n",
      "Checkpoint:  0\n",
      "In Memory:  True\n",
      "Chunks:  10000\n",
      "Max Seq Length:  512\n",
      "------\n",
      "Counting Lines...\n",
      "Moving to Checkpoint...\n",
      "Number of Lines to Process (total_lines - checkpoint):  143946923\n",
      "------\n"
     ]
    },
    {
     "name": "stderr",
     "output_type": "stream",
     "text": [
      "Processing Chunks:   0%|          | 5/14394 [01:03<50:57:44, 12.75s/it]\n"
     ]
    },
    {
     "ename": "KeyboardInterrupt",
     "evalue": "",
     "output_type": "error",
     "traceback": [
      "\u001b[1;31m---------------------------------------------------------------------------\u001b[0m",
      "\u001b[1;31mKeyboardInterrupt\u001b[0m                         Traceback (most recent call last)",
      "Cell \u001b[1;32mIn[20], line 154\u001b[0m\n\u001b[0;32m    149\u001b[0m     \u001b[39mwith\u001b[39;00m \u001b[39mopen\u001b[39m(_train_test_path \u001b[39m+\u001b[39m \u001b[39m'\u001b[39m\u001b[39mtest.txt\u001b[39m\u001b[39m'\u001b[39m, \u001b[39m'\u001b[39m\u001b[39ma\u001b[39m\u001b[39m'\u001b[39m, encoding\u001b[39m=\u001b[39m\u001b[39m'\u001b[39m\u001b[39mutf-8\u001b[39m\u001b[39m'\u001b[39m) \u001b[39mas\u001b[39;00m wfs:\n\u001b[0;32m    150\u001b[0m         wfs\u001b[39m.\u001b[39mwrite(\u001b[39m'\u001b[39m\u001b[39m \u001b[39m\u001b[39m'\u001b[39m\u001b[39m.\u001b[39mjoin(test_tokens))\n\u001b[1;32m--> 154\u001b[0m line_count \u001b[39m=\u001b[39m tokenize_and_write_data_stream(_input_file, _output_path, checkpoint\u001b[39m=\u001b[39;49m\u001b[39m0\u001b[39;49m, in_memory \u001b[39m=\u001b[39;49m \u001b[39mTrue\u001b[39;49;00m, max_seq_length\u001b[39m=\u001b[39;49mmax_seq_length, total_lines \u001b[39m=\u001b[39;49m \u001b[39m143946923\u001b[39;49m, chunks\u001b[39m=\u001b[39;49m\u001b[39m10000\u001b[39;49m)\n\u001b[0;32m    155\u001b[0m \u001b[39m#generate_train_test_files(_output_path, _train_test_path, line_count, max_seq_length)\u001b[39;00m\n",
      "Cell \u001b[1;32mIn[20], line 81\u001b[0m, in \u001b[0;36mtokenize_and_write_data_stream\u001b[1;34m(input_file, _output_path, checkpoint, in_memory, chunks, max_seq_length, total_lines)\u001b[0m\n\u001b[0;32m     79\u001b[0m lines_tkn \u001b[39m=\u001b[39m []\n\u001b[0;32m     80\u001b[0m \u001b[39mfor\u001b[39;00m line \u001b[39min\u001b[39;00m progress_bar:\n\u001b[1;32m---> 81\u001b[0m     lines_tkn\u001b[39m.\u001b[39mappend(\u001b[39m'\u001b[39m\u001b[39m \u001b[39m\u001b[39m'\u001b[39m\u001b[39m.\u001b[39mjoin(tokenizer\u001b[39m.\u001b[39;49mtokenize(line)) \u001b[39m+\u001b[39m \u001b[39m'\u001b[39m\u001b[39m\\n\u001b[39;00m\u001b[39m'\u001b[39m)\n\u001b[0;32m     82\u001b[0m progress_bar\u001b[39m.\u001b[39mclose()\n\u001b[0;32m     84\u001b[0m \u001b[39m#print('Writing Lines chunk...')\u001b[39;00m\n",
      "File \u001b[1;32mc:\\Users\\Matheus\\Documents\\Git\\Longformer-PT\\notebooks\\../DeBERTa\\DeBERTa\\deberta\\spm_tokenizer.py:60\u001b[0m, in \u001b[0;36mSPMTokenizer.tokenize\u001b[1;34m(self, text)\u001b[0m\n\u001b[0;32m     58\u001b[0m   \u001b[39melse\u001b[39;00m:\n\u001b[0;32m     59\u001b[0m     \u001b[39mreturn\u001b[39;00m x\n\u001b[1;32m---> 60\u001b[0m pieces \u001b[39m=\u001b[39m [_norm(p) \u001b[39mfor\u001b[39;00m p \u001b[39min\u001b[39;00m pieces]\n\u001b[0;32m     61\u001b[0m \u001b[39mreturn\u001b[39;00m pieces\n",
      "File \u001b[1;32mc:\\Users\\Matheus\\Documents\\Git\\Longformer-PT\\notebooks\\../DeBERTa\\DeBERTa\\deberta\\spm_tokenizer.py:60\u001b[0m, in \u001b[0;36m<listcomp>\u001b[1;34m(.0)\u001b[0m\n\u001b[0;32m     58\u001b[0m   \u001b[39melse\u001b[39;00m:\n\u001b[0;32m     59\u001b[0m     \u001b[39mreturn\u001b[39;00m x\n\u001b[1;32m---> 60\u001b[0m pieces \u001b[39m=\u001b[39m [_norm(p) \u001b[39mfor\u001b[39;00m p \u001b[39min\u001b[39;00m pieces]\n\u001b[0;32m     61\u001b[0m \u001b[39mreturn\u001b[39;00m pieces\n",
      "\u001b[1;31mKeyboardInterrupt\u001b[0m: "
     ]
    }
   ],
   "source": [
    "import sys\n",
    "sys.path.append('../DeBERTa')\n",
    "\n",
    "from DeBERTa import deberta\n",
    "from DeBERTa.deberta.spm_tokenizer import SPMTokenizer\n",
    "\n",
    "import numpy as np\n",
    "from sklearn.model_selection import train_test_split\n",
    "from tqdm import tqdm\n",
    "import os\n",
    "\n",
    "tqdm.pandas()\n",
    "# Tokenize input path in stream and save filename as line\n",
    "# _input_file = '../data/carolina_brwac/stream_dev/test_file.txt'\n",
    "# _output_path = '../data/carolina_brwac/stream_dev/lines_tokenized/'\n",
    "# _train_test_path = '../data/carolina_brwac/stream_dev/train_test/'\n",
    "\n",
    "_input_file = '../data/carolina_brwac/carolina_brwac.txt'\n",
    "_output_path = '../data/carolina_brwac/full_data_v2/lines_tokenized/'\n",
    "_train_test_path = '../data/carolina_brwac/full_data_v2/train_test/'\n",
    "\n",
    "tokenizer_path = '../models/tokenizer/deberta-pt-carolina/'\n",
    "tokenizer = SPMTokenizer(f'{tokenizer_path}m.model')\n",
    "\n",
    "max_seq_length = 512\n",
    "\n",
    "os.makedirs(_output_path, exist_ok=True)\n",
    "os.makedirs(_train_test_path, exist_ok=True)\n",
    "\n",
    "def get_total_lines(input_file):\n",
    "    with open(input_file, 'r', encoding='utf-8') as rfs:\n",
    "        total_lines = sum(1 for _ in rfs)\n",
    "    return total_lines\n",
    "\n",
    "def tokenize_and_write_data_stream(input_file, _output_path, checkpoint=0, in_memory = False, chunks = 10000, max_seq_length=512, total_lines = None):\n",
    "    print('------\\nRun Config:\\n')\n",
    "    print('Input File: ', input_file)\n",
    "    print('Output Path: ', _output_path)\n",
    "    print('Checkpoint: ', checkpoint)\n",
    "    print('In Memory: ', in_memory)\n",
    "    print('Chunks: ', chunks)\n",
    "    print('Max Seq Length: ', max_seq_length)\n",
    "    print('------')\n",
    "\n",
    "    print('Counting Lines...')\n",
    "    if total_lines == None:\n",
    "        total_lines = get_total_lines(input_file)\n",
    "\n",
    "    with open(input_file, 'r', encoding='utf-8') as rfs:\n",
    "\n",
    "        print('Moving to Checkpoint...')\n",
    "        line_count = 0\n",
    "        if checkpoint > 0:\n",
    "            for _ in range(checkpoint):\n",
    "                rfs.readline()\n",
    "                line_count += 1\n",
    "\n",
    "        num_lines = total_lines - line_count\n",
    "        print('Number of Lines to Process (total_lines - checkpoint): ', num_lines)\n",
    "        \n",
    "        print('------')\n",
    "\n",
    "        if in_memory:\n",
    "            _range = range(chunks)\n",
    "            progress_bar_general = tqdm(range(num_lines//chunks), desc='Processing Chunks', position=0, leave=True)\n",
    "\n",
    "            # Process chunks of lines\n",
    "            for _ in progress_bar_general:\n",
    "                #print('Loading Lines chunk...')\n",
    "                progress_bar = tqdm(_range, desc='Loading Lines', position=1, leave=False, mininterval=100)\n",
    "\n",
    "                lines = []\n",
    "                for _ in progress_bar:\n",
    "                    lines.append(rfs.readline().strip())\n",
    "                progress_bar.close()\n",
    "                \n",
    "                #print('Tokenizing Lines chunk ...')\n",
    "                progress_bar = tqdm(lines, total=chunks, desc='Tokenizing Lines', position=1, leave=False)\n",
    "                lines_tkn = []\n",
    "                for line in progress_bar:\n",
    "                    lines_tkn.append(' '.join(tokenizer.tokenize(line)) + '\\n')\n",
    "                progress_bar.close()\n",
    "\n",
    "                #print('Writing Lines chunk...')\n",
    "                progress_bar = tqdm(lines_tkn, total=chunks, desc='Writing Lines', position=1, leave=False)\n",
    "                for line in progress_bar:\n",
    "                    _output_file = _output_path + f'{line_count}.txt'\n",
    "                    with open(_output_file, 'w+', encoding='utf-8') as wfs:\n",
    "                        wfs.write(line)\n",
    "                    line_count += 1\n",
    "                progress_bar.close()\n",
    "\n",
    "            return lines_tkn, line_count\n",
    "\n",
    "        else:  \n",
    "            print('Streaming Lines...')\n",
    "\n",
    "            tkn = []\n",
    "            progress_bar = tqdm(rfs, total=num_lines, desc='Processing Data')\n",
    "            for line in progress_bar:\n",
    "                _output_file = _output_path + f'{line_count}.txt'\n",
    "                with open(_output_file, 'w+', encoding='utf-8') as wfs:\n",
    "                    tokens = tokenizer.tokenize(line.strip())\n",
    "                    wfs.write(' '.join(tokens) + '\\n')\n",
    "                line_count += 1\n",
    "                progress_bar.update(1)\n",
    "    \n",
    "    return line_count\n",
    "\n",
    "def generate_train_test_files(lines_tokenized_path, _train_test_path, line_count, max_seq_length=512):\n",
    "    _train_idx, _test_idx = train_test_split(np.arange(0, line_count), test_size=0.05, random_state=42)\n",
    "    train_idx, test_idx = {i: True for i in _train_idx}, {i: True for i in _test_idx}\n",
    "    \n",
    "    train_tokens, test_tokens = [], []\n",
    "    train_counter, test_counter = 0, 0\n",
    "\n",
    "    for i in tqdm(range(line_count)):\n",
    "        _input_file = lines_tokenized_path + f'{i}.txt'\n",
    "        # if index is a train index, add to the train_tokens list. else, add to the test_tokens list\n",
    "        with open(_input_file, 'r', encoding='utf-8') as rfs:\n",
    "            # remove \\n from the end of the line and split tokens\n",
    "            tokens = rfs.read()[:-1].split(' ')\n",
    "            if i in train_idx:\n",
    "                train_tokens.extend(tokens)\n",
    "                train_counter += len(tokens)\n",
    "\n",
    "                # if train_counter is greater than max_seq_length_2, write to file train_tokens[:510] and train_counter-510\n",
    "                if train_counter > max_seq_length-2:\n",
    "                    with open(_train_test_path + 'train.txt', 'a', encoding='utf-8') as wfs:\n",
    "                        wfs.write(' '.join(train_tokens[:max_seq_length-2]) + '\\n')\n",
    "                    train_tokens = train_tokens[max_seq_length-2:]\n",
    "                    train_counter -= (max_seq_length-2)\n",
    "\n",
    "            elif i in test_idx:\n",
    "                test_tokens.extend(tokens)\n",
    "                test_counter += len(tokens)\n",
    "\n",
    "                # if test_counter is greater than max_seq_length_2, write to file test_tokens[:510] and test_counter-51\n",
    "                if test_counter > max_seq_length-2:\n",
    "                    with open(_train_test_path + 'test.txt', 'a', encoding='utf-8') as wfs:\n",
    "                        wfs.write(' '.join(test_tokens[:max_seq_length-2]) + '\\n')\n",
    "                    test_tokens = test_tokens[max_seq_length-2:]\n",
    "                    test_counter -= (max_seq_length-2)\n",
    "\n",
    "    # write the remaining tokens to the train and test files (because the loop validation, they cant  > max_seq_length-2)\n",
    "    with open(_train_test_path + 'train.txt', 'a', encoding='utf-8') as wfs:\n",
    "        wfs.write(' '.join(train_tokens))\n",
    "    \n",
    "    with open(_train_test_path + 'test.txt', 'a', encoding='utf-8') as wfs:\n",
    "        wfs.write(' '.join(test_tokens))\n",
    "        \n",
    "\n",
    "\n",
    "line_count = tokenize_and_write_data_stream(_input_file, _output_path, checkpoint=0, in_memory = True, max_seq_length=max_seq_length, total_lines = 143946923, chunks=10000)\n",
    "#generate_train_test_files(_output_path, _train_test_path, line_count, max_seq_length)"
   ]
  },
  {
   "cell_type": "code",
   "execution_count": 38,
   "metadata": {},
   "outputs": [
    {
     "name": "stdout",
     "output_type": "stream",
     "text": [
      "Train tokens: 510\n",
      "Train tokens: 510\n",
      "Train tokens: 510\n",
      "Train tokens: 510\n",
      "Train tokens: 344\n"
     ]
    }
   ],
   "source": [
    "# # count tokens by each line from _train_test_path\n",
    "# with open(_train_test_path + 'train.txt', 'r', encoding='utf-8') as rfs:\n",
    "#     for line in rfs:\n",
    "#         print(f'Train tokens: {len(line.strip().split(\" \"))}')"
   ]
  },
  {
   "cell_type": "markdown",
   "metadata": {},
   "source": [
    "### OLD OPTION"
   ]
  },
  {
   "cell_type": "code",
   "execution_count": null,
   "metadata": {},
   "outputs": [],
   "source": [
    "from tqdm import tqdm\n",
    "\n",
    "_input = '../data/carolina_brwac/carolina_brwac.txt'\n",
    "_output_train = '../data/carolina_brwac/carolina_brwac_TRAIN.txt'\n",
    "_output_test = '../data/carolina_brwac/carolina_brwac_TEST.txt'\n",
    "max_seq_length=512\n",
    "\n",
    "from sklearn.model_selection import train_test_split\n",
    "\n",
    "with open(_input, 'r', encoding='utf-8') as rfs:\n",
    "    train, test = train_test_split(rfs.readlines(), test_size=0.05)"
   ]
  },
  {
   "cell_type": "code",
   "execution_count": 20,
   "metadata": {},
   "outputs": [],
   "source": [
    "from sklearn.model_selection import train_test_split\n",
    "\n",
    "with open(_input, 'r', encoding='utf-8') as rfs:\n",
    "    train, test = train_test_split(rfs.readlines(), test_size=0.05)"
   ]
  },
  {
   "cell_type": "code",
   "execution_count": null,
   "metadata": {},
   "outputs": [],
   "source": [
    "# write train data\n",
    "with open(_output_train, 'w', encoding='utf-8') as wfs:\n",
    "    for line in tqdm(train, desc='Processing'):\n",
    "        wfs.write(f\"{line}\\n\")\n"
   ]
  },
  {
   "cell_type": "code",
   "execution_count": null,
   "metadata": {},
   "outputs": [],
   "source": [
    "# write train data\n",
    "with open(_output_test, 'w', encoding='utf-8') as wfs:\n",
    "    for line in tqdm(test, desc='Processing'):\n",
    "        wfs.write(f\"{line}\\n\")"
   ]
  },
  {
   "cell_type": "code",
   "execution_count": null,
   "metadata": {},
   "outputs": [],
   "source": [
    "# write train data\n",
    "with open(_output_train, 'w', encoding='utf-8') as wfs:\n",
    "    for line in tqdm(train, desc='Processing'):\n",
    "        wfs.write(f\"{line}\\n\")"
   ]
  },
  {
   "cell_type": "code",
   "execution_count": null,
   "metadata": {},
   "outputs": [],
   "source": [
    "def tokenize_data(data, tokenizer):\n",
    "    tokenized_data = []\n",
    "    for text in tqdm(data['text'], desc='Tokenizing'):\n",
    "        tokenized_data.extend(tokenizer.tokenize(text))    \n",
    "    return tokenized_data\n",
    "\n",
    "\n",
    "def write_tokenized_data(tokenized_data, output_file, max_seq_length=512):\n",
    "    lines = 0\n",
    "    with open(output_file, 'w', encoding = 'utf-8') as wfs:\n",
    "        idx = 0\n",
    "        while idx < len(tokenized_data):\n",
    "            wfs.write(' '.join(tokenized_data[idx:idx+max_seq_length-2]) + '\\n')\n",
    "            idx += (max_seq_length - 2)\n",
    "            lines += 1\n",
    "    print(f'Wrote {lines} lines to {output_file}')"
   ]
  },
  {
   "cell_type": "code",
   "execution_count": null,
   "metadata": {},
   "outputs": [],
   "source": [
    "%%time\n",
    "\n",
    "train_tokenized = tokenize_data(train, tokenizer)\n",
    "test_tokenized = tokenize_data(test, tokenizer)\n",
    "# valid_tokenized = tokenize_data(valid, tokenizer)"
   ]
  },
  {
   "cell_type": "code",
   "execution_count": null,
   "metadata": {},
   "outputs": [],
   "source": [
    "%%time\n",
    "\n",
    "write_tokenized_data(train_tokenized, '../data/carolina_brwac/full_data/train.txt')\n",
    "write_tokenized_data(test_tokenized, '../data/carolina_brwac/full_data/test.txt')\n",
    "# write_tokenized_data(valid_tokenized, '../data/carolina_brwac/full_data/valid.txt')\n",
    "# Write test as valid\n",
    "write_tokenized_data(test_tokenized, '../data/carolina_brwac/full_data/valid.txt')"
   ]
  },
  {
   "attachments": {},
   "cell_type": "markdown",
   "metadata": {},
   "source": [
    "### Test Tokenizer"
   ]
  },
  {
   "cell_type": "code",
   "execution_count": null,
   "metadata": {},
   "outputs": [],
   "source": [
    "import sys\n",
    "sys.path.append('../DeBERTa')\n",
    "\n",
    "from DeBERTa import deberta"
   ]
  },
  {
   "cell_type": "code",
   "execution_count": null,
   "metadata": {},
   "outputs": [],
   "source": [
    "p,t=deberta.load_vocab(vocab_path=tokenizer_path, vocab_type='spm', pretrained_id='deberta-v3-base')\n",
    "tokenizer=deberta.tokenizers[t](p)"
   ]
  }
 ],
 "metadata": {
  "kernelspec": {
   "display_name": "venv",
   "language": "python",
   "name": "python3"
  },
  "language_info": {
   "codemirror_mode": {
    "name": "ipython",
    "version": 3
   },
   "file_extension": ".py",
   "mimetype": "text/x-python",
   "name": "python",
   "nbconvert_exporter": "python",
   "pygments_lexer": "ipython3",
   "version": "3.10.9"
  },
  "orig_nbformat": 4
 },
 "nbformat": 4,
 "nbformat_minor": 2
}
