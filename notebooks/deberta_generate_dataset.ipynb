{
 "cells": [
  {
   "attachments": {},
   "cell_type": "markdown",
   "metadata": {},
   "source": [
    "## Prepare data "
   ]
  },
  {
   "attachments": {},
   "cell_type": "markdown",
   "metadata": {},
   "source": [
    "### Load dataset"
   ]
  },
  {
   "cell_type": "code",
   "execution_count": 1,
   "metadata": {},
   "outputs": [
    {
     "name": "stderr",
     "output_type": "stream",
     "text": [
      "c:\\Users\\Matheus\\Documents\\Git\\Longformer-PT\\venv_lg_former\\lib\\site-packages\\tqdm\\auto.py:21: TqdmWarning: IProgress not found. Please update jupyter and ipywidgets. See https://ipywidgets.readthedocs.io/en/stable/user_install.html\n",
      "  from .autonotebook import tqdm as notebook_tqdm\n"
     ]
    }
   ],
   "source": [
    "from datasets import load_dataset, load_from_disk\n",
    "\n",
    "#dataset_carolina = load_dataset(\"carolina-c4ai/corpus-carolina\")\n",
    "dataset_brwac = load_from_disk(\"../data/brwac_dataset\")"
   ]
  },
  {
   "cell_type": "markdown",
   "metadata": {},
   "source": [
    "### Generating tokenized file directly from dataset experiment"
   ]
  },
  {
   "cell_type": "code",
   "execution_count": 15,
   "metadata": {},
   "outputs": [],
   "source": [
    "import sys\n",
    "sys.path.append('../DeBERTa')\n",
    "\n",
    "from DeBERTa.deberta.spm_tokenizer import SPMTokenizer\n",
    "\n",
    "from tqdm import tqdm\n",
    "\n",
    "tokenizer_path = '../models/tokenizer/deberta-pt-carolina/'\n",
    "tokenizer = SPMTokenizer(f'{tokenizer_path}m.model')"
   ]
  },
  {
   "cell_type": "code",
   "execution_count": 4,
   "metadata": {},
   "outputs": [
    {
     "name": "stderr",
     "output_type": "stream",
     "text": [
      "100%|██████████| 2107045/2107045 [27:16<00:00, 1287.40it/s] \n"
     ]
    }
   ],
   "source": [
    "for text in tqdm(dataset_carolina['corpus']['text']):\n",
    "    with open('../data/carolina_brwac/carolina_brwac_tokenized.txt', 'a', encoding=\"utf-8\") as f:\n",
    "        f.write(' '.join(tokenizer.tokenize(text)) + '\\n')"
   ]
  },
  {
   "cell_type": "code",
   "execution_count": 18,
   "metadata": {},
   "outputs": [
    {
     "name": "stderr",
     "output_type": "stream",
     "text": [
      "100%|██████████| 3530796/3530796 [1:29:53<00:00, 654.58it/s]  \n"
     ]
    }
   ],
   "source": [
    "for example in tqdm(dataset_brwac['train']):\n",
    "    with open('../data/carolina_brwac/carolina_brwac_tokenized.txt', 'a', encoding=\"utf-8\") as f:\n",
    "        f.write(' '.join(tokenizer.tokenize(' '.join(sum(example['text']['paragraphs'], [])))) + '\\n')"
   ]
  },
  {
   "attachments": {},
   "cell_type": "markdown",
   "metadata": {},
   "source": [
    "# Generate Dataset"
   ]
  },
  {
   "cell_type": "code",
   "execution_count": null,
   "metadata": {},
   "outputs": [],
   "source": [
    "from tqdm.auto import tqdm\n",
    "\n",
    "tqdm.pandas()"
   ]
  },
  {
   "cell_type": "code",
   "execution_count": null,
   "metadata": {},
   "outputs": [],
   "source": [
    "for text in tqdm(dataset_carolina['corpus']['text']):\n",
    "    with open('../data/corpus-carolina/carolina.txt', 'a', encoding=\"utf-8\") as f:\n",
    "        f.write(text + '\\n')"
   ]
  },
  {
   "cell_type": "code",
   "execution_count": null,
   "metadata": {},
   "outputs": [],
   "source": [
    "for example in tqdm(dataset_brwac['train']):\n",
    "    with open('../data/brwac_dataset/brwac.txt', 'a', encoding=\"utf-8\") as f:\n",
    "        f.write(\"\\n\".join(sum(example['text']['paragraphs'], [])))"
   ]
  },
  {
   "cell_type": "code",
   "execution_count": null,
   "metadata": {},
   "outputs": [],
   "source": [
    "for text in tqdm(dataset_carolina['corpus']['text']):\n",
    "    with open('../data/carolina_brwac/carolina_brwac.txt', 'a', encoding=\"utf-8\") as f:\n",
    "        f.write(text + '\\n')\n",
    "\n",
    "for example in tqdm(dataset_brwac['train']):\n",
    "    with open('../data/carolina_brwac/carolina_brwac.txt', 'a', encoding=\"utf-8\") as f:\n",
    "        f.write(\"\\n\".join(sum(example['text']['paragraphs'], [])))"
   ]
  },
  {
   "attachments": {},
   "cell_type": "markdown",
   "metadata": {},
   "source": [
    "### Training Tokenizer"
   ]
  },
  {
   "cell_type": "code",
   "execution_count": null,
   "metadata": {},
   "outputs": [],
   "source": [
    "import sentencepiece as spm\n",
    "import os\n",
    "\n",
    "tokenizer_path = '../models/tokenizer/deberta-pt-carolina/'\n",
    "#os.makedirs(tokenizer_path, exist_ok=True)\n",
    "tokenizer_name = 'm'\n",
    "\n",
    "#os.makedirs(tokenizer_path, exist_ok=True)\n",
    "\n",
    "#spm.SentencePieceTrainer.train(input='../data/corpus-carolina/carolina.txt', model_prefix=f'{tokenizer_path}/{tokenizer_name}', vocab_size=50265)"
   ]
  },
  {
   "cell_type": "code",
   "execution_count": null,
   "metadata": {},
   "outputs": [],
   "source": [
    "import sys\n",
    "sys.path.append('../DeBERTa')\n",
    "\n",
    "from DeBERTa import deberta\n",
    "from DeBERTa.deberta.spm_tokenizer import SPMTokenizer"
   ]
  },
  {
   "cell_type": "code",
   "execution_count": null,
   "metadata": {},
   "outputs": [],
   "source": [
    "tokenizer_path = '../models/tokenizer/deberta-pt-carolina/'\n",
    "# p,t=deberta.load_vocab(vocab_path=tokenizer_path, vocab_type='spm', pretrained_id='deberta-v3-base')\n",
    "# tokenizer=deberta.tokenizers[t](p)\n",
    "tokenizer = SPMTokenizer(f'{tokenizer_path}m.model')"
   ]
  },
  {
   "attachments": {},
   "cell_type": "markdown",
   "metadata": {},
   "source": [
    "### Split Train/Test"
   ]
  },
  {
   "cell_type": "code",
   "execution_count": 3,
   "metadata": {},
   "outputs": [
    {
     "name": "stdout",
     "output_type": "stream",
     "text": [
      "CPU times: total: 2min 20s\n",
      "Wall time: 2min 21s\n"
     ]
    }
   ],
   "source": [
    "%%time\n",
    "_input_file = '../data/carolina_brwac/carolina_brwac_tokenized.txt'\n",
    "_output_path = '../data/carolina_brwac/training_data/'\n",
    "\n",
    "def get_total_lines(input_file):\n",
    "    with open(input_file, 'r', encoding='utf-8') as rfs:\n",
    "        total_lines = sum(1 for _ in rfs)\n",
    "    return total_lines\n",
    "\n",
    "total_lines = get_total_lines(_input_file)"
   ]
  },
  {
   "cell_type": "code",
   "execution_count": 4,
   "metadata": {},
   "outputs": [
    {
     "name": "stderr",
     "output_type": "stream",
     "text": [
      "Generating train and test files:   3%|▎         | 170753/5637841 [02:17<1:23:17, 1094.06it/s]"
     ]
    }
   ],
   "source": [
    "import sys\n",
    "sys.path.append('../DeBERTa')\n",
    "\n",
    "from DeBERTa import deberta\n",
    "from DeBERTa.deberta.spm_tokenizer import SPMTokenizer\n",
    "\n",
    "import numpy as np\n",
    "from sklearn.model_selection import train_test_split\n",
    "from tqdm import tqdm\n",
    "import os\n",
    "\n",
    "tqdm.pandas()\n",
    "\n",
    "tokenizer_path = '../models/tokenizer/deberta-pt-carolina/'\n",
    "tokenizer = SPMTokenizer(f'{tokenizer_path}m.model')\n",
    "\n",
    "max_seq_length = 512\n",
    "\n",
    "os.makedirs(_output_path, exist_ok=True)\n",
    "\n",
    "def generate_train_test_files(lines_tokenized_path, output_path,  total_lines, max_seq_length=512):\n",
    "    _train_idx, _test_idx = train_test_split(np.arange(0, total_lines), test_size=0.05, random_state=42)\n",
    "    train_idx, test_idx = {i: True for i in _train_idx}, {i: True for i in _test_idx}\n",
    "    \n",
    "    train_tokens, test_tokens = [], []\n",
    "    train_counter, test_counter = 0, 0\n",
    "    cnt = 0\n",
    "\n",
    "    chunk_size = 10*(max_seq_length-2)\n",
    "\n",
    "    with open(lines_tokenized_path, 'r', encoding='utf-8') as rfs:\n",
    "        \n",
    "        progress_bar = tqdm(rfs, total=total_lines, desc='Generating train and test files')\n",
    "\n",
    "        for line in progress_bar:\n",
    "\n",
    "            line_tokens = line[:-1].split(' ')\n",
    "\n",
    "            if cnt in train_idx:\n",
    "                \n",
    "                train_tokens.extend(line_tokens)\n",
    "                train_counter += len(line_tokens)\n",
    "\n",
    "                if train_counter > chunk_size:\n",
    "                    while train_counter > max_seq_length-2:\n",
    "                        with open(output_path + 'train.txt', 'a', encoding='utf-8') as wfs:\n",
    "                            wfs.write(' '.join(train_tokens[:max_seq_length-2]) + '\\n')\n",
    "                        train_tokens = train_tokens[max_seq_length-2:]\n",
    "                        train_counter -= (max_seq_length-2)\n",
    "            else:\n",
    "\n",
    "                test_tokens.extend(line_tokens)\n",
    "                test_counter += len(line_tokens)\n",
    "\n",
    "                if test_counter > chunk_size:\n",
    "                    while test_counter > max_seq_length-2:\n",
    "                        with open(output_path + 'test.txt', 'a', encoding='utf-8') as wfs:\n",
    "                            wfs.write(' '.join(test_tokens[:max_seq_length-2]) + '\\n')\n",
    "                        test_tokens = test_tokens[max_seq_length-2:]\n",
    "                        test_counter -= (max_seq_length-2)\n",
    "\n",
    "            cnt+=1\n",
    "\n",
    "    while train_counter > max_seq_length-2:\n",
    "        with open(output_path + 'train.txt', 'a', encoding='utf-8') as wfs:\n",
    "            wfs.write(' '.join(train_tokens[:max_seq_length-2]) + '\\n')\n",
    "        train_tokens = train_tokens[max_seq_length-2:]\n",
    "        train_counter -= (max_seq_length-2)\n",
    "\n",
    "    while test_counter > max_seq_length-2:\n",
    "        with open(output_path + 'test.txt', 'a', encoding='utf-8') as wfs:\n",
    "            wfs.write(' '.join(test_tokens[:max_seq_length-2]) + '\\n')\n",
    "        test_tokens = test_tokens[max_seq_length-2:]\n",
    "        test_counter -= (max_seq_length-2)\n",
    "        \n",
    "generate_train_test_files(_input_file, _output_path, total_lines, max_seq_length)"
   ]
  },
  {
   "cell_type": "code",
   "execution_count": null,
   "metadata": {},
   "outputs": [],
   "source": [
    "# # count tokens by each line from _train_test_path\n",
    "# with open(_train_test_path + 'train.txt', 'r', encoding='utf-8') as rfs:\n",
    "#     for line in rfs:\n",
    "#         print(f'Train tokens: {len(line.strip().split(\" \"))}')"
   ]
  },
  {
   "cell_type": "markdown",
   "metadata": {},
   "source": [
    "### OLD OPTION"
   ]
  },
  {
   "cell_type": "code",
   "execution_count": null,
   "metadata": {},
   "outputs": [],
   "source": [
    "from tqdm import tqdm\n",
    "\n",
    "_input = '../data/carolina_brwac/carolina_brwac.txt'\n",
    "_output_train = '../data/carolina_brwac/carolina_brwac_TRAIN.txt'\n",
    "_output_test = '../data/carolina_brwac/carolina_brwac_TEST.txt'\n",
    "max_seq_length=512\n",
    "\n",
    "from sklearn.model_selection import train_test_split\n",
    "\n",
    "with open(_input, 'r', encoding='utf-8') as rfs:\n",
    "    train, test = train_test_split(rfs.readlines(), test_size=0.05)"
   ]
  },
  {
   "cell_type": "code",
   "execution_count": null,
   "metadata": {},
   "outputs": [],
   "source": [
    "from sklearn.model_selection import train_test_split\n",
    "\n",
    "with open(_input, 'r', encoding='utf-8') as rfs:\n",
    "    train, test = train_test_split(rfs.readlines(), test_size=0.05)"
   ]
  },
  {
   "cell_type": "code",
   "execution_count": null,
   "metadata": {},
   "outputs": [],
   "source": [
    "# write train data\n",
    "with open(_output_train, 'w', encoding='utf-8') as wfs:\n",
    "    for line in tqdm(train, desc='Processing'):\n",
    "        wfs.write(f\"{line}\\n\")\n"
   ]
  },
  {
   "cell_type": "code",
   "execution_count": null,
   "metadata": {},
   "outputs": [],
   "source": [
    "# write train data\n",
    "with open(_output_test, 'w', encoding='utf-8') as wfs:\n",
    "    for line in tqdm(test, desc='Processing'):\n",
    "        wfs.write(f\"{line}\\n\")"
   ]
  },
  {
   "cell_type": "code",
   "execution_count": null,
   "metadata": {},
   "outputs": [],
   "source": [
    "# write train data\n",
    "with open(_output_train, 'w', encoding='utf-8') as wfs:\n",
    "    for line in tqdm(train, desc='Processing'):\n",
    "        wfs.write(f\"{line}\\n\")"
   ]
  },
  {
   "cell_type": "code",
   "execution_count": null,
   "metadata": {},
   "outputs": [],
   "source": [
    "def tokenize_data(data, tokenizer):\n",
    "    tokenized_data = []\n",
    "    for text in tqdm(data['text'], desc='Tokenizing'):\n",
    "        tokenized_data.extend(tokenizer.tokenize(text))    \n",
    "    return tokenized_data\n",
    "\n",
    "\n",
    "def write_tokenized_data(tokenized_data, output_file, max_seq_length=512):\n",
    "    lines = 0\n",
    "    with open(output_file, 'w', encoding = 'utf-8') as wfs:\n",
    "        idx = 0\n",
    "        while idx < len(tokenized_data):\n",
    "            wfs.write(' '.join(tokenized_data[idx:idx+max_seq_length-2]) + '\\n')\n",
    "            idx += (max_seq_length - 2)\n",
    "            lines += 1\n",
    "    print(f'Wrote {lines} lines to {output_file}')"
   ]
  },
  {
   "cell_type": "code",
   "execution_count": null,
   "metadata": {},
   "outputs": [],
   "source": [
    "%%time\n",
    "\n",
    "train_tokenized = tokenize_data(train, tokenizer)\n",
    "test_tokenized = tokenize_data(test, tokenizer)\n",
    "# valid_tokenized = tokenize_data(valid, tokenizer)"
   ]
  },
  {
   "cell_type": "code",
   "execution_count": null,
   "metadata": {},
   "outputs": [],
   "source": [
    "%%time\n",
    "\n",
    "write_tokenized_data(train_tokenized, '../data/carolina_brwac/full_data/train.txt')\n",
    "write_tokenized_data(test_tokenized, '../data/carolina_brwac/full_data/test.txt')\n",
    "# write_tokenized_data(valid_tokenized, '../data/carolina_brwac/full_data/valid.txt')\n",
    "# Write test as valid\n",
    "write_tokenized_data(test_tokenized, '../data/carolina_brwac/full_data/valid.txt')"
   ]
  },
  {
   "attachments": {},
   "cell_type": "markdown",
   "metadata": {},
   "source": [
    "### Test Tokenizer"
   ]
  },
  {
   "cell_type": "markdown",
   "metadata": {},
   "source": [
    "### DEBUG"
   ]
  },
  {
   "cell_type": "code",
   "execution_count": 1,
   "metadata": {},
   "outputs": [],
   "source": [
    "import sys\n",
    "sys.path.append('../DeBERTa')\n",
    "\n",
    "from DeBERTa import deberta\n",
    "from DeBERTa.deberta.spm_tokenizer import SPMTokenizer\n",
    "\n",
    "tokenizer_path = '../models/tokenizer/deberta-pt-carolina/'\n",
    "tokenizer = SPMTokenizer(f'{tokenizer_path}m.model')"
   ]
  },
  {
   "cell_type": "code",
   "execution_count": 4,
   "metadata": {},
   "outputs": [
    {
     "name": "stderr",
     "output_type": "stream",
     "text": [
      "Processing Data:   3%|▎         | 1190600/42407132 [34:51<20:06:55, 569.17it/s] \n"
     ]
    },
    {
     "ename": "KeyboardInterrupt",
     "evalue": "",
     "output_type": "error",
     "traceback": [
      "\u001b[1;31m---------------------------------------------------------------------------\u001b[0m",
      "\u001b[1;31mKeyboardInterrupt\u001b[0m                         Traceback (most recent call last)",
      "Cell \u001b[1;32mIn[4], line 19\u001b[0m\n\u001b[0;32m     17\u001b[0m \u001b[39mfor\u001b[39;00m line \u001b[39min\u001b[39;00m progress_bar:\n\u001b[0;32m     18\u001b[0m     _output_file \u001b[39m=\u001b[39m _output_path \u001b[39m+\u001b[39m \u001b[39mf\u001b[39m\u001b[39m'\u001b[39m\u001b[39m{\u001b[39;00mline_count\u001b[39m}\u001b[39;00m\u001b[39m.txt\u001b[39m\u001b[39m'\u001b[39m\n\u001b[1;32m---> 19\u001b[0m     \u001b[39mwith\u001b[39;00m \u001b[39mopen\u001b[39;49m(_output_file, \u001b[39m'\u001b[39;49m\u001b[39mw+\u001b[39;49m\u001b[39m'\u001b[39;49m, encoding\u001b[39m=\u001b[39;49m\u001b[39m'\u001b[39;49m\u001b[39mutf-8\u001b[39;49m\u001b[39m'\u001b[39;49m) \u001b[39mas\u001b[39;00m wfs:\n\u001b[0;32m     20\u001b[0m         tokens \u001b[39m=\u001b[39m tokenizer\u001b[39m.\u001b[39mtokenize(line\u001b[39m.\u001b[39mstrip())\n\u001b[0;32m     21\u001b[0m         \u001b[39mprint\u001b[39m(\u001b[39m'\u001b[39m\u001b[39m \u001b[39m\u001b[39m'\u001b[39m\u001b[39m.\u001b[39mjoin(tokens), file\u001b[39m=\u001b[39mwfs, flush\u001b[39m=\u001b[39m\u001b[39mTrue\u001b[39;00m)\n",
      "File \u001b[1;32mc:\\Users\\Matheus\\Documents\\Git\\Longformer-PT\\venv_lg_former\\lib\\site-packages\\IPython\\core\\interactiveshell.py:284\u001b[0m, in \u001b[0;36m_modified_open\u001b[1;34m(file, *args, **kwargs)\u001b[0m\n\u001b[0;32m    277\u001b[0m \u001b[39mif\u001b[39;00m file \u001b[39min\u001b[39;00m {\u001b[39m0\u001b[39m, \u001b[39m1\u001b[39m, \u001b[39m2\u001b[39m}:\n\u001b[0;32m    278\u001b[0m     \u001b[39mraise\u001b[39;00m \u001b[39mValueError\u001b[39;00m(\n\u001b[0;32m    279\u001b[0m         \u001b[39mf\u001b[39m\u001b[39m\"\u001b[39m\u001b[39mIPython won\u001b[39m\u001b[39m'\u001b[39m\u001b[39mt let you open fd=\u001b[39m\u001b[39m{\u001b[39;00mfile\u001b[39m}\u001b[39;00m\u001b[39m by default \u001b[39m\u001b[39m\"\u001b[39m\n\u001b[0;32m    280\u001b[0m         \u001b[39m\"\u001b[39m\u001b[39mas it is likely to crash IPython. If you know what you are doing, \u001b[39m\u001b[39m\"\u001b[39m\n\u001b[0;32m    281\u001b[0m         \u001b[39m\"\u001b[39m\u001b[39myou can use builtins\u001b[39m\u001b[39m'\u001b[39m\u001b[39m open.\u001b[39m\u001b[39m\"\u001b[39m\n\u001b[0;32m    282\u001b[0m     )\n\u001b[1;32m--> 284\u001b[0m \u001b[39mreturn\u001b[39;00m io_open(file, \u001b[39m*\u001b[39margs, \u001b[39m*\u001b[39m\u001b[39m*\u001b[39mkwargs)\n",
      "File \u001b[1;32m~\\miniconda3\\lib\\codecs.py:309\u001b[0m, in \u001b[0;36mBufferedIncrementalDecoder.__init__\u001b[1;34m(self, errors)\u001b[0m\n\u001b[0;32m    303\u001b[0m \u001b[39mclass\u001b[39;00m \u001b[39mBufferedIncrementalDecoder\u001b[39;00m(IncrementalDecoder):\n\u001b[0;32m    304\u001b[0m \u001b[39m    \u001b[39m\u001b[39m\"\"\"\u001b[39;00m\n\u001b[0;32m    305\u001b[0m \u001b[39m    This subclass of IncrementalDecoder can be used as the baseclass for an\u001b[39;00m\n\u001b[0;32m    306\u001b[0m \u001b[39m    incremental decoder if the decoder must be able to handle incomplete\u001b[39;00m\n\u001b[0;32m    307\u001b[0m \u001b[39m    byte sequences.\u001b[39;00m\n\u001b[0;32m    308\u001b[0m \u001b[39m    \"\"\"\u001b[39;00m\n\u001b[1;32m--> 309\u001b[0m     \u001b[39mdef\u001b[39;00m \u001b[39m__init__\u001b[39m(\u001b[39mself\u001b[39m, errors\u001b[39m=\u001b[39m\u001b[39m'\u001b[39m\u001b[39mstrict\u001b[39m\u001b[39m'\u001b[39m):\n\u001b[0;32m    310\u001b[0m         IncrementalDecoder\u001b[39m.\u001b[39m\u001b[39m__init__\u001b[39m(\u001b[39mself\u001b[39m, errors)\n\u001b[0;32m    311\u001b[0m         \u001b[39m# undecoded input that is kept between calls to decode()\u001b[39;00m\n",
      "\u001b[1;31mKeyboardInterrupt\u001b[0m: "
     ]
    }
   ],
   "source": [
    "from tqdm import tqdm\n",
    "\n",
    "checkpoint = 101539791\n",
    "total_line = 143946923\n",
    "\n",
    "_output_path = '../data/carolina_brwac/full_data/lines_tokenized_p2/'\n",
    "\n",
    "with open('../data/carolina_brwac/carolina_brwac.txt', 'r', encoding='utf-8') as rfs:\n",
    "    \n",
    "    line_count = 0\n",
    "    for _ in range(checkpoint):\n",
    "        rfs.readline()\n",
    "        line_count +=1\n",
    "    \n",
    "    progress_bar = tqdm(rfs, total=total_line-checkpoint, desc='Processing Data')\n",
    "\n",
    "    for line in progress_bar:\n",
    "        _output_file = _output_path + f'{line_count}.txt'\n",
    "        with open(_output_file, 'w+', encoding='utf-8') as wfs:\n",
    "            tokens = tokenizer.tokenize(line.strip())\n",
    "            print(' '.join(tokens), file=wfs, flush=True)\n",
    "            wfs.close()\n",
    "        line_count += 1"
   ]
  },
  {
   "cell_type": "markdown",
   "metadata": {},
   "source": [
    "### Sagemaker"
   ]
  },
  {
   "cell_type": "code",
   "execution_count": null,
   "metadata": {},
   "outputs": [],
   "source": [
    "import boto3\n",
    "\n",
    "import sys\n",
    "sys.path.append('../DeBERTa')\n",
    "\n",
    "from DeBERTa.deberta.spm_tokenizer import SPMTokenizer\n",
    "\n",
    "from tqdm import tqdm\n",
    "\n",
    "tokenizer_path = '../models/tokenizer/deberta-pt-carolina/'\n",
    "tokenizer = SPMTokenizer(f'{tokenizer_path}m.model')\n",
    "\n",
    "\n",
    "bucket = 'letrusnlp'\n",
    "prefix = 'letrus-lab/nlp_research/carolina_brwac/'\n",
    "filename = 'carolina_brwac.txt'\n",
    "\n",
    "s3 = boto3.client('s3')\n",
    "\n",
    "response = s3.get_object(Bucket=bucket, Key=prefix+filename)\n",
    "\n",
    "cnt = 0\n",
    "total_lines = 143946923\n",
    "\n",
    "progress_bar = tqdm(total=total_lines, desc='Processing Data')\n",
    "\n",
    "for line in response['Body'].iter_lines():\n",
    "    output_path = f'{prefix}/lines_tokenized/{cnt}.txt'\n",
    "    tokens = tokenizer.tokenize(line.decode('utf-8').strip())\n",
    "    s3.put_object(Bucket=bucket, Key=output_path, Body=' '.join(tokens))\n",
    "    cnt += 1\n",
    "    progress_bar.update(1)"
   ]
  }
 ],
 "metadata": {
  "kernelspec": {
   "display_name": "venv",
   "language": "python",
   "name": "python3"
  },
  "language_info": {
   "codemirror_mode": {
    "name": "ipython",
    "version": 3
   },
   "file_extension": ".py",
   "mimetype": "text/x-python",
   "name": "python",
   "nbconvert_exporter": "python",
   "pygments_lexer": "ipython3",
   "version": "3.10.9"
  },
  "orig_nbformat": 4
 },
 "nbformat": 4,
 "nbformat_minor": 2
}
